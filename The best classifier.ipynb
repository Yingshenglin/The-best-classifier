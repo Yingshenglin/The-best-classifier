{
 "cells": [
  {
   "cell_type": "code",
   "execution_count": 8,
   "id": "e832f70b",
   "metadata": {},
   "outputs": [],
   "source": [
    "import itertools\n",
    "import numpy as np\n",
    "import matplotlib.pyplot as plt\n",
    "from matplotlib.ticker import NullFormatter\n",
    "import pandas as pd\n",
    "import numpy as np\n",
    "import matplotlib.ticker as ticker\n",
    "from sklearn import preprocessing\n",
    "%matplotlib inline"
   ]
  },
  {
   "cell_type": "code",
   "execution_count": 11,
   "id": "ae08aeef",
   "metadata": {},
   "outputs": [
    {
     "name": "stderr",
     "output_type": "stream",
     "text": [
      "'wget' is not recognized as an internal or external command,\n",
      "operable program or batch file.\n"
     ]
    }
   ],
   "source": []
  },
  {
   "cell_type": "code",
   "execution_count": 12,
   "id": "0cf47073",
   "metadata": {},
   "outputs": [],
   "source": [
    "df=pd.read_csv('loan_train.csv')"
   ]
  },
  {
   "cell_type": "code",
   "execution_count": 33,
   "id": "9242acda",
   "metadata": {},
   "outputs": [
    {
     "data": {
      "text/html": [
       "<div>\n",
       "<style scoped>\n",
       "    .dataframe tbody tr th:only-of-type {\n",
       "        vertical-align: middle;\n",
       "    }\n",
       "\n",
       "    .dataframe tbody tr th {\n",
       "        vertical-align: top;\n",
       "    }\n",
       "\n",
       "    .dataframe thead th {\n",
       "        text-align: right;\n",
       "    }\n",
       "</style>\n",
       "<table border=\"1\" class=\"dataframe\">\n",
       "  <thead>\n",
       "    <tr style=\"text-align: right;\">\n",
       "      <th></th>\n",
       "      <th>Unnamed: 0</th>\n",
       "      <th>Unnamed: 0.1</th>\n",
       "      <th>loan_status</th>\n",
       "      <th>Principal</th>\n",
       "      <th>terms</th>\n",
       "      <th>effective_date</th>\n",
       "      <th>due_date</th>\n",
       "      <th>age</th>\n",
       "      <th>education</th>\n",
       "      <th>Gender</th>\n",
       "      <th>dayofweek</th>\n",
       "      <th>weekday</th>\n",
       "      <th>weekend</th>\n",
       "    </tr>\n",
       "  </thead>\n",
       "  <tbody>\n",
       "    <tr>\n",
       "      <th>0</th>\n",
       "      <td>0</td>\n",
       "      <td>0</td>\n",
       "      <td>PAIDOFF</td>\n",
       "      <td>1000</td>\n",
       "      <td>30</td>\n",
       "      <td>2016-09-08</td>\n",
       "      <td>2016-10-07</td>\n",
       "      <td>45</td>\n",
       "      <td>High School or Below</td>\n",
       "      <td>male</td>\n",
       "      <td>3</td>\n",
       "      <td>3</td>\n",
       "      <td>0</td>\n",
       "    </tr>\n",
       "    <tr>\n",
       "      <th>1</th>\n",
       "      <td>2</td>\n",
       "      <td>2</td>\n",
       "      <td>PAIDOFF</td>\n",
       "      <td>1000</td>\n",
       "      <td>30</td>\n",
       "      <td>2016-09-08</td>\n",
       "      <td>2016-10-07</td>\n",
       "      <td>33</td>\n",
       "      <td>Bechalor</td>\n",
       "      <td>female</td>\n",
       "      <td>3</td>\n",
       "      <td>3</td>\n",
       "      <td>0</td>\n",
       "    </tr>\n",
       "    <tr>\n",
       "      <th>2</th>\n",
       "      <td>3</td>\n",
       "      <td>3</td>\n",
       "      <td>PAIDOFF</td>\n",
       "      <td>1000</td>\n",
       "      <td>15</td>\n",
       "      <td>2016-09-08</td>\n",
       "      <td>2016-09-22</td>\n",
       "      <td>27</td>\n",
       "      <td>college</td>\n",
       "      <td>male</td>\n",
       "      <td>3</td>\n",
       "      <td>3</td>\n",
       "      <td>0</td>\n",
       "    </tr>\n",
       "    <tr>\n",
       "      <th>3</th>\n",
       "      <td>4</td>\n",
       "      <td>4</td>\n",
       "      <td>PAIDOFF</td>\n",
       "      <td>1000</td>\n",
       "      <td>30</td>\n",
       "      <td>2016-09-09</td>\n",
       "      <td>2016-10-08</td>\n",
       "      <td>28</td>\n",
       "      <td>college</td>\n",
       "      <td>female</td>\n",
       "      <td>4</td>\n",
       "      <td>4</td>\n",
       "      <td>1</td>\n",
       "    </tr>\n",
       "    <tr>\n",
       "      <th>4</th>\n",
       "      <td>6</td>\n",
       "      <td>6</td>\n",
       "      <td>PAIDOFF</td>\n",
       "      <td>1000</td>\n",
       "      <td>30</td>\n",
       "      <td>2016-09-09</td>\n",
       "      <td>2016-10-08</td>\n",
       "      <td>29</td>\n",
       "      <td>college</td>\n",
       "      <td>male</td>\n",
       "      <td>4</td>\n",
       "      <td>4</td>\n",
       "      <td>1</td>\n",
       "    </tr>\n",
       "    <tr>\n",
       "      <th>...</th>\n",
       "      <td>...</td>\n",
       "      <td>...</td>\n",
       "      <td>...</td>\n",
       "      <td>...</td>\n",
       "      <td>...</td>\n",
       "      <td>...</td>\n",
       "      <td>...</td>\n",
       "      <td>...</td>\n",
       "      <td>...</td>\n",
       "      <td>...</td>\n",
       "      <td>...</td>\n",
       "      <td>...</td>\n",
       "      <td>...</td>\n",
       "    </tr>\n",
       "    <tr>\n",
       "      <th>341</th>\n",
       "      <td>394</td>\n",
       "      <td>394</td>\n",
       "      <td>COLLECTION</td>\n",
       "      <td>800</td>\n",
       "      <td>15</td>\n",
       "      <td>2016-09-11</td>\n",
       "      <td>2016-09-25</td>\n",
       "      <td>32</td>\n",
       "      <td>High School or Below</td>\n",
       "      <td>male</td>\n",
       "      <td>6</td>\n",
       "      <td>6</td>\n",
       "      <td>1</td>\n",
       "    </tr>\n",
       "    <tr>\n",
       "      <th>342</th>\n",
       "      <td>395</td>\n",
       "      <td>395</td>\n",
       "      <td>COLLECTION</td>\n",
       "      <td>1000</td>\n",
       "      <td>30</td>\n",
       "      <td>2016-09-11</td>\n",
       "      <td>2016-10-10</td>\n",
       "      <td>25</td>\n",
       "      <td>High School or Below</td>\n",
       "      <td>male</td>\n",
       "      <td>6</td>\n",
       "      <td>6</td>\n",
       "      <td>1</td>\n",
       "    </tr>\n",
       "    <tr>\n",
       "      <th>343</th>\n",
       "      <td>397</td>\n",
       "      <td>397</td>\n",
       "      <td>COLLECTION</td>\n",
       "      <td>800</td>\n",
       "      <td>15</td>\n",
       "      <td>2016-09-12</td>\n",
       "      <td>2016-09-26</td>\n",
       "      <td>39</td>\n",
       "      <td>college</td>\n",
       "      <td>male</td>\n",
       "      <td>0</td>\n",
       "      <td>0</td>\n",
       "      <td>0</td>\n",
       "    </tr>\n",
       "    <tr>\n",
       "      <th>344</th>\n",
       "      <td>398</td>\n",
       "      <td>398</td>\n",
       "      <td>COLLECTION</td>\n",
       "      <td>1000</td>\n",
       "      <td>30</td>\n",
       "      <td>2016-09-12</td>\n",
       "      <td>2016-11-10</td>\n",
       "      <td>28</td>\n",
       "      <td>college</td>\n",
       "      <td>male</td>\n",
       "      <td>0</td>\n",
       "      <td>0</td>\n",
       "      <td>0</td>\n",
       "    </tr>\n",
       "    <tr>\n",
       "      <th>345</th>\n",
       "      <td>399</td>\n",
       "      <td>399</td>\n",
       "      <td>COLLECTION</td>\n",
       "      <td>1000</td>\n",
       "      <td>30</td>\n",
       "      <td>2016-09-12</td>\n",
       "      <td>2016-10-11</td>\n",
       "      <td>26</td>\n",
       "      <td>college</td>\n",
       "      <td>male</td>\n",
       "      <td>0</td>\n",
       "      <td>0</td>\n",
       "      <td>0</td>\n",
       "    </tr>\n",
       "  </tbody>\n",
       "</table>\n",
       "<p>346 rows × 13 columns</p>\n",
       "</div>"
      ],
      "text/plain": [
       "     Unnamed: 0  Unnamed: 0.1 loan_status  Principal  terms effective_date  \\\n",
       "0             0             0     PAIDOFF       1000     30     2016-09-08   \n",
       "1             2             2     PAIDOFF       1000     30     2016-09-08   \n",
       "2             3             3     PAIDOFF       1000     15     2016-09-08   \n",
       "3             4             4     PAIDOFF       1000     30     2016-09-09   \n",
       "4             6             6     PAIDOFF       1000     30     2016-09-09   \n",
       "..          ...           ...         ...        ...    ...            ...   \n",
       "341         394           394  COLLECTION        800     15     2016-09-11   \n",
       "342         395           395  COLLECTION       1000     30     2016-09-11   \n",
       "343         397           397  COLLECTION        800     15     2016-09-12   \n",
       "344         398           398  COLLECTION       1000     30     2016-09-12   \n",
       "345         399           399  COLLECTION       1000     30     2016-09-12   \n",
       "\n",
       "      due_date  age             education  Gender  dayofweek  weekday  weekend  \n",
       "0   2016-10-07   45  High School or Below    male          3        3        0  \n",
       "1   2016-10-07   33              Bechalor  female          3        3        0  \n",
       "2   2016-09-22   27               college    male          3        3        0  \n",
       "3   2016-10-08   28               college  female          4        4        1  \n",
       "4   2016-10-08   29               college    male          4        4        1  \n",
       "..         ...  ...                   ...     ...        ...      ...      ...  \n",
       "341 2016-09-25   32  High School or Below    male          6        6        1  \n",
       "342 2016-10-10   25  High School or Below    male          6        6        1  \n",
       "343 2016-09-26   39               college    male          0        0        0  \n",
       "344 2016-11-10   28               college    male          0        0        0  \n",
       "345 2016-10-11   26               college    male          0        0        0  \n",
       "\n",
       "[346 rows x 13 columns]"
      ]
     },
     "execution_count": 33,
     "metadata": {},
     "output_type": "execute_result"
    }
   ],
   "source": [
    "df"
   ]
  },
  {
   "cell_type": "code",
   "execution_count": 53,
   "id": "16aa03a3",
   "metadata": {},
   "outputs": [
    {
     "data": {
      "text/plain": [
       "Gender  loan_status\n",
       "0       PAIDOFF        0.731293\n",
       "        COLLECTION     0.268707\n",
       "1       PAIDOFF        0.865385\n",
       "        COLLECTION     0.134615\n",
       "Name: loan_status, dtype: float64"
      ]
     },
     "execution_count": 53,
     "metadata": {},
     "output_type": "execute_result"
    }
   ],
   "source": [
    "df.groupby(['Gender'])['loan_status'].value_counts(normalize=True)"
   ]
  },
  {
   "cell_type": "code",
   "execution_count": 63,
   "id": "a78d8847",
   "metadata": {},
   "outputs": [
    {
     "data": {
      "text/html": [
       "<div>\n",
       "<style scoped>\n",
       "    .dataframe tbody tr th:only-of-type {\n",
       "        vertical-align: middle;\n",
       "    }\n",
       "\n",
       "    .dataframe tbody tr th {\n",
       "        vertical-align: top;\n",
       "    }\n",
       "\n",
       "    .dataframe thead th {\n",
       "        text-align: right;\n",
       "    }\n",
       "</style>\n",
       "<table border=\"1\" class=\"dataframe\">\n",
       "  <thead>\n",
       "    <tr style=\"text-align: right;\">\n",
       "      <th></th>\n",
       "      <th>Unnamed: 0</th>\n",
       "      <th>Unnamed: 0.1</th>\n",
       "      <th>loan_status</th>\n",
       "      <th>Principal</th>\n",
       "      <th>terms</th>\n",
       "      <th>effective_date</th>\n",
       "      <th>due_date</th>\n",
       "      <th>age</th>\n",
       "      <th>education</th>\n",
       "      <th>Gender</th>\n",
       "      <th>dayofweek</th>\n",
       "      <th>weekday</th>\n",
       "      <th>weekend</th>\n",
       "    </tr>\n",
       "  </thead>\n",
       "  <tbody>\n",
       "    <tr>\n",
       "      <th>0</th>\n",
       "      <td>0</td>\n",
       "      <td>0</td>\n",
       "      <td>PAIDOFF</td>\n",
       "      <td>1000</td>\n",
       "      <td>30</td>\n",
       "      <td>2016-09-08</td>\n",
       "      <td>2016-10-07</td>\n",
       "      <td>45</td>\n",
       "      <td>High School or Below</td>\n",
       "      <td>0</td>\n",
       "      <td>3</td>\n",
       "      <td>3</td>\n",
       "      <td>0</td>\n",
       "    </tr>\n",
       "    <tr>\n",
       "      <th>1</th>\n",
       "      <td>2</td>\n",
       "      <td>2</td>\n",
       "      <td>PAIDOFF</td>\n",
       "      <td>1000</td>\n",
       "      <td>30</td>\n",
       "      <td>2016-09-08</td>\n",
       "      <td>2016-10-07</td>\n",
       "      <td>33</td>\n",
       "      <td>Bechalor</td>\n",
       "      <td>1</td>\n",
       "      <td>3</td>\n",
       "      <td>3</td>\n",
       "      <td>0</td>\n",
       "    </tr>\n",
       "    <tr>\n",
       "      <th>2</th>\n",
       "      <td>3</td>\n",
       "      <td>3</td>\n",
       "      <td>PAIDOFF</td>\n",
       "      <td>1000</td>\n",
       "      <td>15</td>\n",
       "      <td>2016-09-08</td>\n",
       "      <td>2016-09-22</td>\n",
       "      <td>27</td>\n",
       "      <td>college</td>\n",
       "      <td>0</td>\n",
       "      <td>3</td>\n",
       "      <td>3</td>\n",
       "      <td>0</td>\n",
       "    </tr>\n",
       "    <tr>\n",
       "      <th>3</th>\n",
       "      <td>4</td>\n",
       "      <td>4</td>\n",
       "      <td>PAIDOFF</td>\n",
       "      <td>1000</td>\n",
       "      <td>30</td>\n",
       "      <td>2016-09-09</td>\n",
       "      <td>2016-10-08</td>\n",
       "      <td>28</td>\n",
       "      <td>college</td>\n",
       "      <td>1</td>\n",
       "      <td>4</td>\n",
       "      <td>4</td>\n",
       "      <td>1</td>\n",
       "    </tr>\n",
       "    <tr>\n",
       "      <th>4</th>\n",
       "      <td>6</td>\n",
       "      <td>6</td>\n",
       "      <td>PAIDOFF</td>\n",
       "      <td>1000</td>\n",
       "      <td>30</td>\n",
       "      <td>2016-09-09</td>\n",
       "      <td>2016-10-08</td>\n",
       "      <td>29</td>\n",
       "      <td>college</td>\n",
       "      <td>0</td>\n",
       "      <td>4</td>\n",
       "      <td>4</td>\n",
       "      <td>1</td>\n",
       "    </tr>\n",
       "  </tbody>\n",
       "</table>\n",
       "</div>"
      ],
      "text/plain": [
       "   Unnamed: 0  Unnamed: 0.1 loan_status  Principal  terms effective_date  \\\n",
       "0           0             0     PAIDOFF       1000     30     2016-09-08   \n",
       "1           2             2     PAIDOFF       1000     30     2016-09-08   \n",
       "2           3             3     PAIDOFF       1000     15     2016-09-08   \n",
       "3           4             4     PAIDOFF       1000     30     2016-09-09   \n",
       "4           6             6     PAIDOFF       1000     30     2016-09-09   \n",
       "\n",
       "    due_date  age             education  Gender  dayofweek  weekday  weekend  \n",
       "0 2016-10-07   45  High School or Below       0          3        3        0  \n",
       "1 2016-10-07   33              Bechalor       1          3        3        0  \n",
       "2 2016-09-22   27               college       0          3        3        0  \n",
       "3 2016-10-08   28               college       1          4        4        1  \n",
       "4 2016-10-08   29               college       0          4        4        1  "
      ]
     },
     "execution_count": 63,
     "metadata": {},
     "output_type": "execute_result"
    }
   ],
   "source": [
    "df['Gender'].replace(to_replace=['male','female'], value=[0,1],inplace=True)\n",
    "df.head()"
   ]
  },
  {
   "cell_type": "code",
   "execution_count": 64,
   "id": "5eaf4aa4",
   "metadata": {},
   "outputs": [],
   "source": [
    "df['due_date'] = pd.to_datetime(df['due_date'])\n",
    "df['effective_date'] = pd.to_datetime(df['effective_date'])"
   ]
  },
  {
   "cell_type": "code",
   "execution_count": 65,
   "id": "c3854605",
   "metadata": {},
   "outputs": [],
   "source": [
    "df['weekday'] = df['effective_date'].dt.weekday"
   ]
  },
  {
   "cell_type": "code",
   "execution_count": 66,
   "id": "3f5ba6b6",
   "metadata": {},
   "outputs": [],
   "source": [
    "df['weekend'] = df['weekday'].apply(lambda x: 1 if (x>3)  else 0)"
   ]
  },
  {
   "cell_type": "code",
   "execution_count": 68,
   "id": "b524ac18",
   "metadata": {},
   "outputs": [
    {
     "data": {
      "text/html": [
       "<div>\n",
       "<style scoped>\n",
       "    .dataframe tbody tr th:only-of-type {\n",
       "        vertical-align: middle;\n",
       "    }\n",
       "\n",
       "    .dataframe tbody tr th {\n",
       "        vertical-align: top;\n",
       "    }\n",
       "\n",
       "    .dataframe thead th {\n",
       "        text-align: right;\n",
       "    }\n",
       "</style>\n",
       "<table border=\"1\" class=\"dataframe\">\n",
       "  <thead>\n",
       "    <tr style=\"text-align: right;\">\n",
       "      <th></th>\n",
       "      <th>Principal</th>\n",
       "      <th>terms</th>\n",
       "      <th>age</th>\n",
       "      <th>Gender</th>\n",
       "      <th>weekend</th>\n",
       "      <th>Bechalor</th>\n",
       "      <th>High School or Below</th>\n",
       "      <th>college</th>\n",
       "    </tr>\n",
       "  </thead>\n",
       "  <tbody>\n",
       "    <tr>\n",
       "      <th>0</th>\n",
       "      <td>1000</td>\n",
       "      <td>30</td>\n",
       "      <td>45</td>\n",
       "      <td>0</td>\n",
       "      <td>0</td>\n",
       "      <td>0</td>\n",
       "      <td>1</td>\n",
       "      <td>0</td>\n",
       "    </tr>\n",
       "    <tr>\n",
       "      <th>1</th>\n",
       "      <td>1000</td>\n",
       "      <td>30</td>\n",
       "      <td>33</td>\n",
       "      <td>1</td>\n",
       "      <td>0</td>\n",
       "      <td>1</td>\n",
       "      <td>0</td>\n",
       "      <td>0</td>\n",
       "    </tr>\n",
       "    <tr>\n",
       "      <th>2</th>\n",
       "      <td>1000</td>\n",
       "      <td>15</td>\n",
       "      <td>27</td>\n",
       "      <td>0</td>\n",
       "      <td>0</td>\n",
       "      <td>0</td>\n",
       "      <td>0</td>\n",
       "      <td>1</td>\n",
       "    </tr>\n",
       "    <tr>\n",
       "      <th>3</th>\n",
       "      <td>1000</td>\n",
       "      <td>30</td>\n",
       "      <td>28</td>\n",
       "      <td>1</td>\n",
       "      <td>1</td>\n",
       "      <td>0</td>\n",
       "      <td>0</td>\n",
       "      <td>1</td>\n",
       "    </tr>\n",
       "    <tr>\n",
       "      <th>4</th>\n",
       "      <td>1000</td>\n",
       "      <td>30</td>\n",
       "      <td>29</td>\n",
       "      <td>0</td>\n",
       "      <td>1</td>\n",
       "      <td>0</td>\n",
       "      <td>0</td>\n",
       "      <td>1</td>\n",
       "    </tr>\n",
       "    <tr>\n",
       "      <th>...</th>\n",
       "      <td>...</td>\n",
       "      <td>...</td>\n",
       "      <td>...</td>\n",
       "      <td>...</td>\n",
       "      <td>...</td>\n",
       "      <td>...</td>\n",
       "      <td>...</td>\n",
       "      <td>...</td>\n",
       "    </tr>\n",
       "    <tr>\n",
       "      <th>341</th>\n",
       "      <td>800</td>\n",
       "      <td>15</td>\n",
       "      <td>32</td>\n",
       "      <td>0</td>\n",
       "      <td>1</td>\n",
       "      <td>0</td>\n",
       "      <td>1</td>\n",
       "      <td>0</td>\n",
       "    </tr>\n",
       "    <tr>\n",
       "      <th>342</th>\n",
       "      <td>1000</td>\n",
       "      <td>30</td>\n",
       "      <td>25</td>\n",
       "      <td>0</td>\n",
       "      <td>1</td>\n",
       "      <td>0</td>\n",
       "      <td>1</td>\n",
       "      <td>0</td>\n",
       "    </tr>\n",
       "    <tr>\n",
       "      <th>343</th>\n",
       "      <td>800</td>\n",
       "      <td>15</td>\n",
       "      <td>39</td>\n",
       "      <td>0</td>\n",
       "      <td>0</td>\n",
       "      <td>0</td>\n",
       "      <td>0</td>\n",
       "      <td>1</td>\n",
       "    </tr>\n",
       "    <tr>\n",
       "      <th>344</th>\n",
       "      <td>1000</td>\n",
       "      <td>30</td>\n",
       "      <td>28</td>\n",
       "      <td>0</td>\n",
       "      <td>0</td>\n",
       "      <td>0</td>\n",
       "      <td>0</td>\n",
       "      <td>1</td>\n",
       "    </tr>\n",
       "    <tr>\n",
       "      <th>345</th>\n",
       "      <td>1000</td>\n",
       "      <td>30</td>\n",
       "      <td>26</td>\n",
       "      <td>0</td>\n",
       "      <td>0</td>\n",
       "      <td>0</td>\n",
       "      <td>0</td>\n",
       "      <td>1</td>\n",
       "    </tr>\n",
       "  </tbody>\n",
       "</table>\n",
       "<p>346 rows × 8 columns</p>\n",
       "</div>"
      ],
      "text/plain": [
       "     Principal  terms  age  Gender  weekend  Bechalor  High School or Below  \\\n",
       "0         1000     30   45       0        0         0                     1   \n",
       "1         1000     30   33       1        0         1                     0   \n",
       "2         1000     15   27       0        0         0                     0   \n",
       "3         1000     30   28       1        1         0                     0   \n",
       "4         1000     30   29       0        1         0                     0   \n",
       "..         ...    ...  ...     ...      ...       ...                   ...   \n",
       "341        800     15   32       0        1         0                     1   \n",
       "342       1000     30   25       0        1         0                     1   \n",
       "343        800     15   39       0        0         0                     0   \n",
       "344       1000     30   28       0        0         0                     0   \n",
       "345       1000     30   26       0        0         0                     0   \n",
       "\n",
       "     college  \n",
       "0          0  \n",
       "1          0  \n",
       "2          1  \n",
       "3          1  \n",
       "4          1  \n",
       "..       ...  \n",
       "341        0  \n",
       "342        0  \n",
       "343        1  \n",
       "344        1  \n",
       "345        1  \n",
       "\n",
       "[346 rows x 8 columns]"
      ]
     },
     "execution_count": 68,
     "metadata": {},
     "output_type": "execute_result"
    }
   ],
   "source": [
    "Category = df[['Principal','terms','age','Gender','weekend']]\n",
    "Category = pd.concat([Category,pd.get_dummies(df['education'])], axis=1)\n",
    "Category.drop(['Master or Above'], axis = 1,inplace=True)\n",
    "Category"
   ]
  },
  {
   "cell_type": "code",
   "execution_count": 69,
   "id": "b0636785",
   "metadata": {},
   "outputs": [],
   "source": [
    "X = Category"
   ]
  },
  {
   "cell_type": "code",
   "execution_count": 70,
   "id": "45d35406",
   "metadata": {},
   "outputs": [],
   "source": [
    "y = pd.get_dummies(df['loan_status'])['PAIDOFF'].values"
   ]
  },
  {
   "cell_type": "markdown",
   "id": "b8fbe79f",
   "metadata": {},
   "source": [
    "K Nearest Neighbor(KNN)"
   ]
  },
  {
   "cell_type": "code",
   "execution_count": 71,
   "id": "ad778cfc",
   "metadata": {},
   "outputs": [],
   "source": [
    "from sklearn.neighbors import KNeighborsClassifier\n",
    "from sklearn.model_selection import train_test_split\n",
    "from sklearn import metrics\n",
    "X_train, X_test, y_train, y_test = train_test_split( X, y, test_size=0.2, random_state=4)"
   ]
  },
  {
   "cell_type": "code",
   "execution_count": 72,
   "id": "23ffc25d",
   "metadata": {},
   "outputs": [
    {
     "data": {
      "image/png": "[encoded data removed]",
      "text/plain": [
       "<Figure size 432x288 with 1 Axes>"
      ]
     },
     "metadata": {
      "needs_background": "light"
     },
     "output_type": "display_data"
    }
   ],
   "source": [
    "mean_acc=np.zeros(50)\n",
    "std_acc = np.zeros(50)\n",
    "for n in range(1,51):\n",
    "    knnmodel=KNeighborsClassifier(n_neighbors=n).fit(X_train,y_train)\n",
    "    y_pred=knnmodel.predict(X_test)\n",
    "    mean_acc[n-1]=metrics.accuracy_score(y_test,y_pred)\n",
    "    std_acc[n-1]=np.std(y_pred==y_test)/np.sqrt(y_pred.shape[0])\n",
    "    \n",
    "plt.plot(range(1,51),mean_acc,'g')\n",
    "plt.fill_between(range(1,51),mean_acc - 1 * std_acc,mean_acc + 1 * std_acc, alpha=0.10)\n",
    "plt.legend(('Accuracy ', '+/- 3xstd'))\n",
    "plt.ylabel('Accuracy ')\n",
    "plt.xlabel('Number of Nabors (K)')\n",
    "plt.tight_layout()\n",
    "plt.show()"
   ]
  },
  {
   "cell_type": "code",
   "execution_count": 73,
   "id": "0bec4aef",
   "metadata": {},
   "outputs": [
    {
     "data": {
      "text/plain": [
       "0.7857142857142857"
      ]
     },
     "execution_count": 73,
     "metadata": {},
     "output_type": "execute_result"
    }
   ],
   "source": [
    "mean_acc.max()\n"
   ]
  },
  {
   "cell_type": "code",
   "execution_count": 74,
   "id": "f5ed11b8",
   "metadata": {},
   "outputs": [
    {
     "data": {
      "text/plain": [
       "37"
      ]
     },
     "execution_count": 74,
     "metadata": {},
     "output_type": "execute_result"
    }
   ],
   "source": [
    "mean_acc.argmax()+1"
   ]
  },
  {
   "cell_type": "markdown",
   "id": "85fb795e",
   "metadata": {},
   "source": [
    "The best accuracy was  0.7857142857142857 when k= 37"
   ]
  },
  {
   "cell_type": "markdown",
   "id": "492dcb41",
   "metadata": {},
   "source": [
    "Decision Tree"
   ]
  },
  {
   "cell_type": "code",
   "execution_count": 77,
   "id": "cee42a78",
   "metadata": {},
   "outputs": [],
   "source": [
    "from sklearn.tree import DecisionTreeClassifier"
   ]
  },
  {
   "cell_type": "code",
   "execution_count": 78,
   "id": "7538c713",
   "metadata": {},
   "outputs": [
    {
     "data": {
      "text/plain": [
       "DecisionTreeClassifier(criterion='entropy', max_depth=4)"
      ]
     },
     "execution_count": 78,
     "metadata": {},
     "output_type": "execute_result"
    }
   ],
   "source": [
    "model = DecisionTreeClassifier(criterion=\"entropy\", max_depth = 4)\n",
    "model.fit(X_train,y_train)"
   ]
  },
  {
   "cell_type": "code",
   "execution_count": 80,
   "id": "8c5b7b7b",
   "metadata": {},
   "outputs": [
    {
     "data": {
      "text/plain": [
       "0.6142857142857143"
      ]
     },
     "execution_count": 80,
     "metadata": {},
     "output_type": "execute_result"
    }
   ],
   "source": [
    "y_pred=model.predict(X_test)\n",
    "DecisionTreeAccuracy=metrics.accuracy_score(y_test,y_pred)\n",
    "DecisionTreeAccuracy"
   ]
  },
  {
   "cell_type": "code",
   "execution_count": null,
   "id": "ca987360",
   "metadata": {},
   "outputs": [],
   "source": [
    "The accuracy of decison tree model is 0.6142857142857143"
   ]
  },
  {
   "cell_type": "markdown",
   "id": "73e351da",
   "metadata": {},
   "source": [
    "SVM"
   ]
  },
  {
   "cell_type": "code",
   "execution_count": 104,
   "id": "e92c19cf",
   "metadata": {},
   "outputs": [
    {
     "data": {
      "text/plain": [
       "SVC()"
      ]
     },
     "execution_count": 104,
     "metadata": {},
     "output_type": "execute_result"
    }
   ],
   "source": [
    "\n",
    "from sklearn import svm\n",
    "svmmodel=svm.SVC(kernel='rbf')\n",
    "svmmodel.fit(X_train,y_train)"
   ]
  },
  {
   "cell_type": "code",
   "execution_count": 105,
   "id": "b0fea3fc",
   "metadata": {},
   "outputs": [
    {
     "data": {
      "text/plain": [
       "array([1, 1, 1, 1, 1, 1, 1, 1, 1, 1, 1, 1, 1, 1, 1, 1, 1, 1, 1, 1, 1, 1,\n",
       "       1, 1, 1, 1, 1, 1, 1, 1, 1, 1, 1, 1, 1, 1, 1, 1, 1, 1, 1, 1, 1, 1,\n",
       "       1, 1, 1, 1, 1, 1, 1, 1, 1, 1, 1, 1, 1, 1, 1, 1, 1, 1, 1, 1, 1, 1,\n",
       "       1, 1, 1, 1], dtype=uint8)"
      ]
     },
     "execution_count": 105,
     "metadata": {},
     "output_type": "execute_result"
    }
   ],
   "source": [
    "y_pred=svmmodel.predict(X_test)\n",
    "y_pred"
   ]
  },
  {
   "cell_type": "markdown",
   "id": "db4e8e83",
   "metadata": {},
   "source": [
    "Logistic Regression"
   ]
  },
  {
   "cell_type": "code",
   "execution_count": 110,
   "id": "c57b0e52",
   "metadata": {},
   "outputs": [],
   "source": [
    "from sklearn.linear_model import LogisticRegression\n",
    "from sklearn.metrics import confusion_matrix\n",
    "lrmodel=LogisticRegression(C=0.01,solver='liblinear').fit(X_train,y_train)"
   ]
  },
  {
   "cell_type": "code",
   "execution_count": 123,
   "id": "462aef7d",
   "metadata": {},
   "outputs": [
    {
     "name": "stdout",
     "output_type": "stream",
     "text": [
      "[[0.32295451 0.67704549]\n",
      " [0.25028458 0.74971542]\n",
      " [0.18058968 0.81941032]\n",
      " [0.31842814 0.68157186]\n",
      " [0.23877924 0.76122076]\n",
      " [0.20537939 0.79462061]\n",
      " [0.27303975 0.72696025]\n",
      " [0.24257638 0.75742362]\n",
      " [0.31842814 0.68157186]\n",
      " [0.29873276 0.70126724]\n",
      " [0.30139145 0.69860855]\n",
      " [0.31870506 0.68129494]\n",
      " [0.29486638 0.70513362]\n",
      " [0.29712705 0.70287295]\n",
      " [0.13826387 0.86173613]\n",
      " [0.16477552 0.83522448]\n",
      " [0.3961522  0.6038478 ]\n",
      " [0.18361846 0.81638154]\n",
      " [0.33624938 0.66375062]\n",
      " [0.22107799 0.77892201]\n",
      " [0.28403971 0.71596029]\n",
      " [0.31011812 0.68988188]\n",
      " [0.3587312  0.6412688 ]\n",
      " [0.36668443 0.63331557]\n",
      " [0.21036655 0.78963345]\n",
      " [0.34061581 0.65938419]\n",
      " [0.34961925 0.65038075]\n",
      " [0.1467569  0.8532431 ]\n",
      " [0.34519783 0.65480217]\n",
      " [0.1398959  0.8601041 ]\n",
      " [0.22240276 0.77759724]\n",
      " [0.34397153 0.65602847]\n",
      " [0.28135638 0.71864362]\n",
      " [0.27709473 0.72290527]\n",
      " [0.21009772 0.78990228]\n",
      " [0.19606528 0.80393472]\n",
      " [0.33624938 0.66375062]\n",
      " [0.14255195 0.85744805]\n",
      " [0.31313687 0.68686313]\n",
      " [0.21412393 0.78587607]\n",
      " [0.35425731 0.64574269]\n",
      " [0.22801433 0.77198567]\n",
      " [0.16927732 0.83072268]\n",
      " [0.34061581 0.65938419]\n",
      " [0.18966569 0.81033431]\n",
      " [0.34010247 0.65989753]\n",
      " [0.22936843 0.77063157]\n",
      " [0.31870506 0.68129494]\n",
      " [0.18986182 0.81013818]\n",
      " [0.18629367 0.81370633]\n",
      " [0.24092811 0.75907189]\n",
      " [0.20179757 0.79820243]\n",
      " [0.2389319  0.7610681 ]\n",
      " [0.29333468 0.70666532]\n",
      " [0.26315166 0.73684834]\n",
      " [0.10211024 0.89788976]\n",
      " [0.20766284 0.79233716]\n",
      " [0.24532558 0.75467442]\n",
      " [0.22240276 0.77759724]\n",
      " [0.27278662 0.72721338]\n",
      " [0.1154932  0.8845068 ]\n",
      " [0.27683928 0.72316072]\n",
      " [0.19606528 0.80393472]\n",
      " [0.40572037 0.59427963]\n",
      " [0.23510262 0.76489738]\n",
      " [0.31011812 0.68988188]\n",
      " [0.27683928 0.72316072]\n",
      " [0.20154559 0.79845441]\n",
      " [0.16374879 0.83625121]\n",
      " [0.23510262 0.76489738]]\n"
     ]
    }
   ],
   "source": [
    "y_pred=lrmodel.predict(X_test)\n",
    "print(lrmodel.predict_proba(X_test))"
   ]
  },
  {
   "cell_type": "code",
   "execution_count": 124,
   "id": "cbbb7b0a",
   "metadata": {},
   "outputs": [
    {
     "data": {
      "text/plain": [
       "0.7857142857142857"
      ]
     },
     "execution_count": 124,
     "metadata": {},
     "output_type": "execute_result"
    }
   ],
   "source": [
    "metrics.accuracy_score(y_test,y_pred)"
   ]
  },
  {
   "cell_type": "markdown",
   "id": "5cec6833",
   "metadata": {},
   "source": [
    "Model evaluation "
   ]
  },
  {
   "cell_type": "code",
   "execution_count": 134,
   "id": "3b2f30bc",
   "metadata": {},
   "outputs": [],
   "source": [
    "from sklearn.metrics import jaccard_score\n",
    "from sklearn.metrics import f1_score\n",
    "from sklearn.metrics import log_loss"
   ]
  },
  {
   "cell_type": "code",
   "execution_count": 141,
   "id": "16be943c",
   "metadata": {},
   "outputs": [],
   "source": [
    "y_pred_knn=knnmodel.predict(X_test)\n",
    "y_pred_dt=model.predict(X_test)\n",
    "y_pred_svm=svmmodel.predict(X_test)\n",
    "y_pred_lr=lrmodel.predict(X_test)\n",
    "y_pred_lr_proba=lrmodel.predict_proba(X_test)"
   ]
  },
  {
   "cell_type": "code",
   "execution_count": 138,
   "id": "ebe81073",
   "metadata": {},
   "outputs": [
    {
     "name": "stdout",
     "output_type": "stream",
     "text": [
      "0.88\n",
      "0.7272727272727274\n",
      "0.88\n",
      "0.88\n"
     ]
    }
   ],
   "source": [
    "print(f1_score(y_test,y_pred_knn))\n",
    "print(f1_score(y_test,y_pred_dt))\n",
    "print(f1_score(y_test,y_pred_svm))\n",
    "print(f1_score(y_test,y_pred_lr))"
   ]
  },
  {
   "cell_type": "code",
   "execution_count": 139,
   "id": "915ec650",
   "metadata": {},
   "outputs": [
    {
     "name": "stdout",
     "output_type": "stream",
     "text": [
      "0.7857142857142857\n",
      "0.5714285714285714\n",
      "0.7857142857142857\n",
      "0.7857142857142857\n"
     ]
    }
   ],
   "source": [
    "print(jaccard_score(y_test,y_pred_knn))\n",
    "print(jaccard_score(y_test,y_pred_decisiontree))\n",
    "print(jaccard_score(y_test,y_pred_svm))\n",
    "print(jaccard_score(y_test,y_pred_lr))"
   ]
  },
  {
   "cell_type": "code",
   "execution_count": 143,
   "id": "b8feaf46",
   "metadata": {},
   "outputs": [
    {
     "data": {
      "text/plain": [
       "0.5435595463663915"
      ]
     },
     "execution_count": 143,
     "metadata": {},
     "output_type": "execute_result"
    }
   ],
   "source": [
    "lr_log_loss=log_loss(y_test,y_pred_lr_proba)\n",
    "lr_log_loss"
   ]
  },
  {
   "cell_type": "code",
   "execution_count": null,
   "id": "48330e0f",
   "metadata": {},
   "outputs": [],
   "source": []
  }
 ],
 "metadata": {
  "kernelspec": {
   "display_name": "Python 3 (ipykernel)",
   "language": "python",
   "name": "python3"
  },
  "language_info": {
   "codemirror_mode": {
    "name": "ipython",
    "version": 3
   },
   "file_extension": ".py",
   "mimetype": "text/x-python",
   "name": "python",
   "nbconvert_exporter": "python",
   "pygments_lexer": "ipython3",
   "version": "3.9.7"
  }
 },
 "nbformat": 4,
 "nbformat_minor": 5
}
